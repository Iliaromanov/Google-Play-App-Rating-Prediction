{
 "cells": [
  {
   "cell_type": "markdown",
   "metadata": {},
   "source": [
    "# Data exploration"
   ]
  },
  {
   "cell_type": "markdown",
   "metadata": {},
   "source": [
    "## Selecting the data"
   ]
  },
  {
   "cell_type": "markdown",
   "metadata": {},
   "source": [
    "We start by uploading the data and all necessary libraries"
   ]
  },
  {
   "cell_type": "code",
   "execution_count": 1,
   "metadata": {},
   "outputs": [],
   "source": [
    "import seaborn as sns\n",
    "import numpy as np\n",
    "import pandas as pd\n",
    "from sklearn.preprocessing import LabelEncoder\n",
    "from sklearn.impute import SimpleImputer\n",
    "\n",
    "app_data = pd.read_csv('googleplaystore.csv')"
   ]
  },
  {
   "cell_type": "markdown",
   "metadata": {},
   "source": [
    "Function below takes in a data frame and returns percentage/number of missing values for each feature(column). It will be used later, to have a better understanding of the data"
   ]
  },
  {
   "cell_type": "code",
   "execution_count": 2,
   "metadata": {},
   "outputs": [],
   "source": [
    "def missing_values(test):\n",
    "    total = test.isnull().sum().sort_values(ascending=False)\n",
    "    percent_1 = test.isnull().sum() / test.isnull().count() * 100\n",
    "    percent_2 = (round(percent_1, 1)).sort_values(ascending=False)\n",
    "    missing_data = pd.concat([total, percent_2], axis=1, keys=['Total', '%'])\n",
    "    \n",
    "    return missing_data.head((missing_data['Total'] >= 0).sum())"
   ]
  },
  {
   "cell_type": "markdown",
   "metadata": {},
   "source": [
    "Display the amount of missing values per column and what percentage of the column contains missing values"
   ]
  },
  {
   "cell_type": "code",
   "execution_count": 3,
   "metadata": {},
   "outputs": [
    {
     "output_type": "execute_result",
     "data": {
      "text/plain": [
       "                Total     %\n",
       "Rating           1474  13.6\n",
       "Current Ver         8   0.1\n",
       "Android Ver         3   0.0\n",
       "Content Rating      1   0.0\n",
       "Type                1   0.0\n",
       "Last Updated        0   0.0\n",
       "Genres              0   0.0\n",
       "Price               0   0.0\n",
       "Installs            0   0.0\n",
       "Size                0   0.0\n",
       "Reviews             0   0.0\n",
       "Category            0   0.0\n",
       "App                 0   0.0"
      ],
      "text/html": "<div>\n<style scoped>\n    .dataframe tbody tr th:only-of-type {\n        vertical-align: middle;\n    }\n\n    .dataframe tbody tr th {\n        vertical-align: top;\n    }\n\n    .dataframe thead th {\n        text-align: right;\n    }\n</style>\n<table border=\"1\" class=\"dataframe\">\n  <thead>\n    <tr style=\"text-align: right;\">\n      <th></th>\n      <th>Total</th>\n      <th>%</th>\n    </tr>\n  </thead>\n  <tbody>\n    <tr>\n      <th>Rating</th>\n      <td>1474</td>\n      <td>13.6</td>\n    </tr>\n    <tr>\n      <th>Current Ver</th>\n      <td>8</td>\n      <td>0.1</td>\n    </tr>\n    <tr>\n      <th>Android Ver</th>\n      <td>3</td>\n      <td>0.0</td>\n    </tr>\n    <tr>\n      <th>Content Rating</th>\n      <td>1</td>\n      <td>0.0</td>\n    </tr>\n    <tr>\n      <th>Type</th>\n      <td>1</td>\n      <td>0.0</td>\n    </tr>\n    <tr>\n      <th>Last Updated</th>\n      <td>0</td>\n      <td>0.0</td>\n    </tr>\n    <tr>\n      <th>Genres</th>\n      <td>0</td>\n      <td>0.0</td>\n    </tr>\n    <tr>\n      <th>Price</th>\n      <td>0</td>\n      <td>0.0</td>\n    </tr>\n    <tr>\n      <th>Installs</th>\n      <td>0</td>\n      <td>0.0</td>\n    </tr>\n    <tr>\n      <th>Size</th>\n      <td>0</td>\n      <td>0.0</td>\n    </tr>\n    <tr>\n      <th>Reviews</th>\n      <td>0</td>\n      <td>0.0</td>\n    </tr>\n    <tr>\n      <th>Category</th>\n      <td>0</td>\n      <td>0.0</td>\n    </tr>\n    <tr>\n      <th>App</th>\n      <td>0</td>\n      <td>0.0</td>\n    </tr>\n  </tbody>\n</table>\n</div>"
     },
     "metadata": {},
     "execution_count": 3
    }
   ],
   "source": [
    "missing_values(app_data)"
   ]
  },
  {
   "cell_type": "markdown",
   "metadata": {},
   "source": [
    "Counting unique values in \"App\" column we see that there are duplicates"
   ]
  },
  {
   "cell_type": "code",
   "execution_count": 4,
   "metadata": {},
   "outputs": [
    {
     "output_type": "execute_result",
     "data": {
      "text/plain": [
       "'total app count: 10841, unique app count: 9660'"
      ]
     },
     "metadata": {},
     "execution_count": 4
    }
   ],
   "source": [
    "unique_apps = app_data[\"App\"].nunique()\n",
    "all_apps = app_data[\"App\"].size\n",
    "\n",
    "f\"total app count: {all_apps}, unique app count: {unique_apps}\""
   ]
  },
  {
   "cell_type": "markdown",
   "metadata": {},
   "source": [
    "Removing duplicates in \"App\" column"
   ]
  },
  {
   "cell_type": "code",
   "execution_count": 5,
   "metadata": {},
   "outputs": [
    {
     "output_type": "execute_result",
     "data": {
      "text/plain": [
       "'total app count after dropping duplicates: 9660'"
      ]
     },
     "metadata": {},
     "execution_count": 5
    }
   ],
   "source": [
    "app_data = app_data.drop_duplicates(subset = \"App\")\n",
    "\n",
    "new_all_apps = app_data[\"App\"].size\n",
    "f\"total app count after dropping duplicates: {new_all_apps}\""
   ]
  },
  {
   "cell_type": "code",
   "execution_count": 6,
   "metadata": {},
   "outputs": [],
   "source": [
    "#See all unique values in the Android version column\n",
    "app_data[\"Android Ver\"].unique()\n",
    "# Note that most are num and up. Hence, we can split the column into 3 by space\n",
    "\n",
    "#Take the first part of the android version\n",
    "app_data[\"Android Ver\"] = app_data[\"Android Ver\"].str.split(expand = True)"
   ]
  },
  {
   "cell_type": "code",
   "execution_count": 7,
   "metadata": {},
   "outputs": [
    {
     "output_type": "execute_result",
     "data": {
      "text/plain": [
       "Index(['App', 'Category', 'Rating', 'Reviews', 'Size', 'Installs', 'Type',\n",
       "       'Price', 'Content Rating', 'Genres', 'Last Updated', 'Current Ver',\n",
       "       'Android Ver'],\n",
       "      dtype='object')"
      ]
     },
     "metadata": {},
     "execution_count": 7
    }
   ],
   "source": [
    "app_data.columns"
   ]
  },
  {
   "cell_type": "markdown",
   "metadata": {},
   "source": [
    "We remove the features that are normally not available when the app is about to launch."
   ]
  },
  {
   "cell_type": "code",
   "execution_count": 8,
   "metadata": {},
   "outputs": [
    {
     "output_type": "execute_result",
     "data": {
      "text/plain": [
       "                                                 App        Category  Rating  \\\n",
       "0     Photo Editor & Candy Camera & Grid & ScrapBook  ART_AND_DESIGN     4.1   \n",
       "1                                Coloring book moana  ART_AND_DESIGN     3.9   \n",
       "2  U Launcher Lite – FREE Live Cool Themes, Hide ...  ART_AND_DESIGN     4.7   \n",
       "3                              Sketch - Draw & Paint  ART_AND_DESIGN     4.5   \n",
       "4              Pixel Draw - Number Art Coloring Book  ART_AND_DESIGN     4.3   \n",
       "\n",
       "   Size  Type Price Content Rating                     Genres Android Ver  \n",
       "0   19M  Free     0       Everyone               Art & Design       4.0.3  \n",
       "1   14M  Free     0       Everyone  Art & Design;Pretend Play       4.0.3  \n",
       "2  8.7M  Free     0       Everyone               Art & Design       4.0.3  \n",
       "3   25M  Free     0           Teen               Art & Design         4.2  \n",
       "4  2.8M  Free     0       Everyone    Art & Design;Creativity         4.4  "
      ],
      "text/html": "<div>\n<style scoped>\n    .dataframe tbody tr th:only-of-type {\n        vertical-align: middle;\n    }\n\n    .dataframe tbody tr th {\n        vertical-align: top;\n    }\n\n    .dataframe thead th {\n        text-align: right;\n    }\n</style>\n<table border=\"1\" class=\"dataframe\">\n  <thead>\n    <tr style=\"text-align: right;\">\n      <th></th>\n      <th>App</th>\n      <th>Category</th>\n      <th>Rating</th>\n      <th>Size</th>\n      <th>Type</th>\n      <th>Price</th>\n      <th>Content Rating</th>\n      <th>Genres</th>\n      <th>Android Ver</th>\n    </tr>\n  </thead>\n  <tbody>\n    <tr>\n      <th>0</th>\n      <td>Photo Editor &amp; Candy Camera &amp; Grid &amp; ScrapBook</td>\n      <td>ART_AND_DESIGN</td>\n      <td>4.1</td>\n      <td>19M</td>\n      <td>Free</td>\n      <td>0</td>\n      <td>Everyone</td>\n      <td>Art &amp; Design</td>\n      <td>4.0.3</td>\n    </tr>\n    <tr>\n      <th>1</th>\n      <td>Coloring book moana</td>\n      <td>ART_AND_DESIGN</td>\n      <td>3.9</td>\n      <td>14M</td>\n      <td>Free</td>\n      <td>0</td>\n      <td>Everyone</td>\n      <td>Art &amp; Design;Pretend Play</td>\n      <td>4.0.3</td>\n    </tr>\n    <tr>\n      <th>2</th>\n      <td>U Launcher Lite – FREE Live Cool Themes, Hide ...</td>\n      <td>ART_AND_DESIGN</td>\n      <td>4.7</td>\n      <td>8.7M</td>\n      <td>Free</td>\n      <td>0</td>\n      <td>Everyone</td>\n      <td>Art &amp; Design</td>\n      <td>4.0.3</td>\n    </tr>\n    <tr>\n      <th>3</th>\n      <td>Sketch - Draw &amp; Paint</td>\n      <td>ART_AND_DESIGN</td>\n      <td>4.5</td>\n      <td>25M</td>\n      <td>Free</td>\n      <td>0</td>\n      <td>Teen</td>\n      <td>Art &amp; Design</td>\n      <td>4.2</td>\n    </tr>\n    <tr>\n      <th>4</th>\n      <td>Pixel Draw - Number Art Coloring Book</td>\n      <td>ART_AND_DESIGN</td>\n      <td>4.3</td>\n      <td>2.8M</td>\n      <td>Free</td>\n      <td>0</td>\n      <td>Everyone</td>\n      <td>Art &amp; Design;Creativity</td>\n      <td>4.4</td>\n    </tr>\n  </tbody>\n</table>\n</div>"
     },
     "metadata": {},
     "execution_count": 8
    }
   ],
   "source": [
    "not_available_cols = ['Reviews', 'Installs', 'Last Updated', 'Current Ver']\n",
    "app_data = app_data.drop(not_available_cols, axis = 1)\n",
    "app_data.head()"
   ]
  },
  {
   "cell_type": "code",
   "execution_count": 9,
   "metadata": {},
   "outputs": [
    {
     "output_type": "execute_result",
     "data": {
      "text/plain": [
       "                Total     %\n",
       "Rating           1463  15.1\n",
       "Android Ver         3   0.0\n",
       "Content Rating      1   0.0\n",
       "Type                1   0.0\n",
       "Genres              0   0.0\n",
       "Price               0   0.0\n",
       "Size                0   0.0\n",
       "Category            0   0.0\n",
       "App                 0   0.0"
      ],
      "text/html": "<div>\n<style scoped>\n    .dataframe tbody tr th:only-of-type {\n        vertical-align: middle;\n    }\n\n    .dataframe tbody tr th {\n        vertical-align: top;\n    }\n\n    .dataframe thead th {\n        text-align: right;\n    }\n</style>\n<table border=\"1\" class=\"dataframe\">\n  <thead>\n    <tr style=\"text-align: right;\">\n      <th></th>\n      <th>Total</th>\n      <th>%</th>\n    </tr>\n  </thead>\n  <tbody>\n    <tr>\n      <th>Rating</th>\n      <td>1463</td>\n      <td>15.1</td>\n    </tr>\n    <tr>\n      <th>Android Ver</th>\n      <td>3</td>\n      <td>0.0</td>\n    </tr>\n    <tr>\n      <th>Content Rating</th>\n      <td>1</td>\n      <td>0.0</td>\n    </tr>\n    <tr>\n      <th>Type</th>\n      <td>1</td>\n      <td>0.0</td>\n    </tr>\n    <tr>\n      <th>Genres</th>\n      <td>0</td>\n      <td>0.0</td>\n    </tr>\n    <tr>\n      <th>Price</th>\n      <td>0</td>\n      <td>0.0</td>\n    </tr>\n    <tr>\n      <th>Size</th>\n      <td>0</td>\n      <td>0.0</td>\n    </tr>\n    <tr>\n      <th>Category</th>\n      <td>0</td>\n      <td>0.0</td>\n    </tr>\n    <tr>\n      <th>App</th>\n      <td>0</td>\n      <td>0.0</td>\n    </tr>\n  </tbody>\n</table>\n</div>"
     },
     "metadata": {},
     "execution_count": 9
    }
   ],
   "source": [
    "missing_values(app_data)"
   ]
  },
  {
   "cell_type": "code",
   "execution_count": 10,
   "metadata": {},
   "outputs": [
    {
     "output_type": "execute_result",
     "data": {
      "text/plain": [
       "                                           App         Category  Rating  \\\n",
       "4453                    [substratum] Vacuum: P  PERSONALIZATION     4.4   \n",
       "4490                      Pi Dark [substratum]  PERSONALIZATION     4.5   \n",
       "10472  Life Made WI-Fi Touchscreen Photo Frame              1.9    19.0   \n",
       "\n",
       "         Size  Type     Price Content Rating             Genres Android Ver  \n",
       "4453      11M  Paid     $1.49       Everyone    Personalization         NaN  \n",
       "4490     2.1M  Free         0       Everyone    Personalization         NaN  \n",
       "10472  1,000+     0  Everyone            NaN  February 11, 2018         NaN  "
      ],
      "text/html": "<div>\n<style scoped>\n    .dataframe tbody tr th:only-of-type {\n        vertical-align: middle;\n    }\n\n    .dataframe tbody tr th {\n        vertical-align: top;\n    }\n\n    .dataframe thead th {\n        text-align: right;\n    }\n</style>\n<table border=\"1\" class=\"dataframe\">\n  <thead>\n    <tr style=\"text-align: right;\">\n      <th></th>\n      <th>App</th>\n      <th>Category</th>\n      <th>Rating</th>\n      <th>Size</th>\n      <th>Type</th>\n      <th>Price</th>\n      <th>Content Rating</th>\n      <th>Genres</th>\n      <th>Android Ver</th>\n    </tr>\n  </thead>\n  <tbody>\n    <tr>\n      <th>4453</th>\n      <td>[substratum] Vacuum: P</td>\n      <td>PERSONALIZATION</td>\n      <td>4.4</td>\n      <td>11M</td>\n      <td>Paid</td>\n      <td>$1.49</td>\n      <td>Everyone</td>\n      <td>Personalization</td>\n      <td>NaN</td>\n    </tr>\n    <tr>\n      <th>4490</th>\n      <td>Pi Dark [substratum]</td>\n      <td>PERSONALIZATION</td>\n      <td>4.5</td>\n      <td>2.1M</td>\n      <td>Free</td>\n      <td>0</td>\n      <td>Everyone</td>\n      <td>Personalization</td>\n      <td>NaN</td>\n    </tr>\n    <tr>\n      <th>10472</th>\n      <td>Life Made WI-Fi Touchscreen Photo Frame</td>\n      <td>1.9</td>\n      <td>19.0</td>\n      <td>1,000+</td>\n      <td>0</td>\n      <td>Everyone</td>\n      <td>NaN</td>\n      <td>February 11, 2018</td>\n      <td>NaN</td>\n    </tr>\n  </tbody>\n</table>\n</div>"
     },
     "metadata": {},
     "execution_count": 10
    }
   ],
   "source": [
    "app_data[(app_data[\"Content Rating\"].isnull() | app_data[\"Android Ver\"].isnull())]"
   ]
  },
  {
   "cell_type": "markdown",
   "metadata": {},
   "source": [
    "Since the number of missing values in the android ver column is small and it intersects with the single missing value in Content rating, we will delete those rows"
   ]
  },
  {
   "cell_type": "code",
   "execution_count": 11,
   "metadata": {},
   "outputs": [
    {
     "output_type": "execute_result",
     "data": {
      "text/plain": [
       "                                                 App        Category  Rating  \\\n",
       "0     Photo Editor & Candy Camera & Grid & ScrapBook  ART_AND_DESIGN     4.1   \n",
       "1                                Coloring book moana  ART_AND_DESIGN     3.9   \n",
       "2  U Launcher Lite – FREE Live Cool Themes, Hide ...  ART_AND_DESIGN     4.7   \n",
       "3                              Sketch - Draw & Paint  ART_AND_DESIGN     4.5   \n",
       "4              Pixel Draw - Number Art Coloring Book  ART_AND_DESIGN     4.3   \n",
       "\n",
       "   Size  Type Price Content Rating                     Genres Android Ver  \n",
       "0   19M  Free     0       Everyone               Art & Design       4.0.3  \n",
       "1   14M  Free     0       Everyone  Art & Design;Pretend Play       4.0.3  \n",
       "2  8.7M  Free     0       Everyone               Art & Design       4.0.3  \n",
       "3   25M  Free     0           Teen               Art & Design         4.2  \n",
       "4  2.8M  Free     0       Everyone    Art & Design;Creativity         4.4  "
      ],
      "text/html": "<div>\n<style scoped>\n    .dataframe tbody tr th:only-of-type {\n        vertical-align: middle;\n    }\n\n    .dataframe tbody tr th {\n        vertical-align: top;\n    }\n\n    .dataframe thead th {\n        text-align: right;\n    }\n</style>\n<table border=\"1\" class=\"dataframe\">\n  <thead>\n    <tr style=\"text-align: right;\">\n      <th></th>\n      <th>App</th>\n      <th>Category</th>\n      <th>Rating</th>\n      <th>Size</th>\n      <th>Type</th>\n      <th>Price</th>\n      <th>Content Rating</th>\n      <th>Genres</th>\n      <th>Android Ver</th>\n    </tr>\n  </thead>\n  <tbody>\n    <tr>\n      <th>0</th>\n      <td>Photo Editor &amp; Candy Camera &amp; Grid &amp; ScrapBook</td>\n      <td>ART_AND_DESIGN</td>\n      <td>4.1</td>\n      <td>19M</td>\n      <td>Free</td>\n      <td>0</td>\n      <td>Everyone</td>\n      <td>Art &amp; Design</td>\n      <td>4.0.3</td>\n    </tr>\n    <tr>\n      <th>1</th>\n      <td>Coloring book moana</td>\n      <td>ART_AND_DESIGN</td>\n      <td>3.9</td>\n      <td>14M</td>\n      <td>Free</td>\n      <td>0</td>\n      <td>Everyone</td>\n      <td>Art &amp; Design;Pretend Play</td>\n      <td>4.0.3</td>\n    </tr>\n    <tr>\n      <th>2</th>\n      <td>U Launcher Lite – FREE Live Cool Themes, Hide ...</td>\n      <td>ART_AND_DESIGN</td>\n      <td>4.7</td>\n      <td>8.7M</td>\n      <td>Free</td>\n      <td>0</td>\n      <td>Everyone</td>\n      <td>Art &amp; Design</td>\n      <td>4.0.3</td>\n    </tr>\n    <tr>\n      <th>3</th>\n      <td>Sketch - Draw &amp; Paint</td>\n      <td>ART_AND_DESIGN</td>\n      <td>4.5</td>\n      <td>25M</td>\n      <td>Free</td>\n      <td>0</td>\n      <td>Teen</td>\n      <td>Art &amp; Design</td>\n      <td>4.2</td>\n    </tr>\n    <tr>\n      <th>4</th>\n      <td>Pixel Draw - Number Art Coloring Book</td>\n      <td>ART_AND_DESIGN</td>\n      <td>4.3</td>\n      <td>2.8M</td>\n      <td>Free</td>\n      <td>0</td>\n      <td>Everyone</td>\n      <td>Art &amp; Design;Creativity</td>\n      <td>4.4</td>\n    </tr>\n  </tbody>\n</table>\n</div>"
     },
     "metadata": {},
     "execution_count": 11
    }
   ],
   "source": [
    "inds = app_data[(app_data[\"Content Rating\"].isnull() | app_data[\"Android Ver\"].isnull())].index\n",
    "#Since the only missing values are in Android version and Content rating, we can use dropna\n",
    "app_data = app_data.dropna()\n",
    "app_data.head()"
   ]
  },
  {
   "cell_type": "markdown",
   "metadata": {},
   "source": [
    "## Converting the data into workable shape"
   ]
  },
  {
   "cell_type": "markdown",
   "metadata": {},
   "source": [
    "We will be starting by using LabelEncoding on \"Type\" column. As there are only 2 categories and no Nan values as they were removed with when we removed rows with many missing values earlier. "
   ]
  },
  {
   "cell_type": "code",
   "execution_count": 12,
   "metadata": {},
   "outputs": [],
   "source": [
    "# Change price column to free = 0 and paid = 1\n",
    "# creating instance of labelencoder\n",
    "paid_types = app_data[\"Type\"].unique()\n",
    "labelencoder = LabelEncoder()\n",
    "app_data['Type'] = labelencoder.fit_transform(app_data['Type'])"
   ]
  },
  {
   "cell_type": "markdown",
   "metadata": {},
   "source": [
    "Now, we deal with the \"Price\" column. Note that here, the data is already mostly numerical, so we will only remove the dollar sign"
   ]
  },
  {
   "cell_type": "code",
   "execution_count": 13,
   "metadata": {},
   "outputs": [
    {
     "output_type": "execute_result",
     "data": {
      "text/plain": [
       "'Unique values before: 73, unique values after: 73'"
      ]
     },
     "metadata": {},
     "execution_count": 13
    }
   ],
   "source": [
    "before = app_data[\"Price\"].nunique()\n",
    "app_data[\"Price\"] = app_data[\"Price\"].replace('[\\$,]', '', regex=True).astype(float)\n",
    "after = app_data[\"Price\"].nunique()\n",
    "f\"Unique values before: {before}, unique values after: {after}\""
   ]
  },
  {
   "cell_type": "markdown",
   "metadata": {},
   "source": [
    "Then, \"Content Rating\". First, check all categories in this column"
   ]
  },
  {
   "cell_type": "code",
   "execution_count": 14,
   "metadata": {},
   "outputs": [
    {
     "output_type": "execute_result",
     "data": {
      "text/plain": [
       "array(['Everyone', 'Teen', 'Everyone 10+', 'Mature 17+',\n",
       "       'Adults only 18+', 'Unrated'], dtype=object)"
      ]
     },
     "metadata": {},
     "execution_count": 14
    }
   ],
   "source": [
    "app_data[\"Content Rating\"].unique()"
   ]
  },
  {
   "cell_type": "markdown",
   "metadata": {},
   "source": [
    "First, as we can't assign a specific order to \"Unrated\", we will see how many rows have that value. If there are very few, we will use SimpleImputer to change change the value to the most common one"
   ]
  },
  {
   "cell_type": "code",
   "execution_count": 15,
   "metadata": {},
   "outputs": [
    {
     "output_type": "execute_result",
     "data": {
      "text/plain": [
       "                         App Category  Rating  Size  Type  Price  \\\n",
       "8266  DC Universe Online Map    TOOLS     4.1  6.4M     0    0.0   \n",
       "\n",
       "     Content Rating Genres Android Ver  \n",
       "8266        Unrated  Tools       2.3.3  "
      ],
      "text/html": "<div>\n<style scoped>\n    .dataframe tbody tr th:only-of-type {\n        vertical-align: middle;\n    }\n\n    .dataframe tbody tr th {\n        vertical-align: top;\n    }\n\n    .dataframe thead th {\n        text-align: right;\n    }\n</style>\n<table border=\"1\" class=\"dataframe\">\n  <thead>\n    <tr style=\"text-align: right;\">\n      <th></th>\n      <th>App</th>\n      <th>Category</th>\n      <th>Rating</th>\n      <th>Size</th>\n      <th>Type</th>\n      <th>Price</th>\n      <th>Content Rating</th>\n      <th>Genres</th>\n      <th>Android Ver</th>\n    </tr>\n  </thead>\n  <tbody>\n    <tr>\n      <th>8266</th>\n      <td>DC Universe Online Map</td>\n      <td>TOOLS</td>\n      <td>4.1</td>\n      <td>6.4M</td>\n      <td>0</td>\n      <td>0.0</td>\n      <td>Unrated</td>\n      <td>Tools</td>\n      <td>2.3.3</td>\n    </tr>\n  </tbody>\n</table>\n</div>"
     },
     "metadata": {},
     "execution_count": 15
    }
   ],
   "source": [
    "app_data[(app_data[\"Content Rating\"] == \"Unrated\")]"
   ]
  },
  {
   "cell_type": "code",
   "execution_count": 16,
   "metadata": {},
   "outputs": [],
   "source": [
    "imp_const = SimpleImputer(missing_values=\"Unrated\", strategy = \"most_frequent\")\n",
    "imp_const.fit(pd.DataFrame(app_data[\"Content Rating\"]))\n",
    "app_data[\"Content Rating\"] = imp_const.transform(pd.DataFrame(app_data[\"Content Rating\"]))"
   ]
  },
  {
   "cell_type": "code",
   "execution_count": 17,
   "metadata": {},
   "outputs": [
    {
     "output_type": "execute_result",
     "data": {
      "text/plain": [
       "array(['Everyone', 'Teen', 'Everyone 10+', 'Mature 17+',\n",
       "       'Adults only 18+'], dtype=object)"
      ]
     },
     "metadata": {},
     "execution_count": 17
    }
   ],
   "source": [
    "app_data[\"Content Rating\"].unique()"
   ]
  },
  {
   "cell_type": "markdown",
   "metadata": {},
   "source": [
    "As the values in the \"Content Rating\" column can be ordered, we will be assigning a numerical value to each category. however, we will not be using LabelEncoder as is encodes in alphabetical order. Instead, we will create the an array of values we would like to replace and an array that we will replace with. Then, we iterate through both sets and replace on by one. "
   ]
  },
  {
   "cell_type": "code",
   "execution_count": 18,
   "metadata": {},
   "outputs": [
    {
     "output_type": "execute_result",
     "data": {
      "text/plain": [
       "'Unique values in converted \"Content Rating\": [ 0 13 10 17 18]'"
      ]
     },
     "metadata": {},
     "execution_count": 18
    }
   ],
   "source": [
    "unique_cr = np.array(['Everyone', 'Everyone 10+', 'Teen', 'Mature 17+', 'Adults only 18+'])\n",
    "n = np.array([0, 10, 13, 17, 18])\n",
    "for i,j in zip(unique_cr, n):\n",
    "    app_data[\"Content Rating\"] = app_data[\"Content Rating\"].replace([i,], j)\n",
    "unq = app_data[\"Content Rating\"].unique()\n",
    "f\"Unique values in converted \\\"Content Rating\\\": {unq}\""
   ]
  },
  {
   "cell_type": "code",
   "execution_count": 19,
   "metadata": {},
   "outputs": [
    {
     "output_type": "execute_result",
     "data": {
      "text/plain": [
       "array(['ART_AND_DESIGN', 'AUTO_AND_VEHICLES', 'BEAUTY',\n",
       "       'BOOKS_AND_REFERENCE', 'BUSINESS', 'COMICS', 'COMMUNICATION',\n",
       "       'DATING', 'EDUCATION', 'ENTERTAINMENT', 'EVENTS', 'FINANCE',\n",
       "       'FOOD_AND_DRINK', 'HEALTH_AND_FITNESS', 'HOUSE_AND_HOME',\n",
       "       'LIBRARIES_AND_DEMO', 'LIFESTYLE', 'GAME', 'FAMILY', 'MEDICAL',\n",
       "       'SOCIAL', 'SHOPPING', 'PHOTOGRAPHY', 'SPORTS', 'TRAVEL_AND_LOCAL',\n",
       "       'TOOLS', 'PERSONALIZATION', 'PRODUCTIVITY', 'PARENTING', 'WEATHER',\n",
       "       'VIDEO_PLAYERS', 'NEWS_AND_MAGAZINES', 'MAPS_AND_NAVIGATION'],\n",
       "      dtype=object)"
      ]
     },
     "metadata": {},
     "execution_count": 19
    }
   ],
   "source": [
    "app_data[\"Category\"].unique()"
   ]
  },
  {
   "cell_type": "markdown",
   "metadata": {},
   "source": [
    "Then, we work with \"Size\""
   ]
  },
  {
   "cell_type": "code",
   "execution_count": 20,
   "metadata": {},
   "outputs": [
    {
     "output_type": "execute_result",
     "data": {
      "text/plain": [
       "array(['14M', '8.7M', '25M', '2.8M', '5.6M', '29M', '33M', '3.1M', '28M',\n",
       "       '12M', '20M', '21M', '37M', '2.7M', '5.5M', '17M', '39M', '31M',\n",
       "       '4.2M', '23M', '6.0M', '6.1M', '4.6M', '9.2M', '5.2M', '11M',\n",
       "       '24M', 'Varies with device', '9.4M'], dtype=object)"
      ]
     },
     "metadata": {},
     "execution_count": 20
    }
   ],
   "source": [
    "app_data[\"Size\"].unique()[1:30]"
   ]
  },
  {
   "cell_type": "markdown",
   "metadata": {},
   "source": [
    "Note that here, I am only showing the first 30 values because it would not look pretty to display all of them. I have looked at the full array and there are 3 types of values: \"...M\", \"...k\", and \"Varies with device\". I am assuming that M are megabytes and k are kilobytes. Hence, we will have to divide values with k by 1024 to have all values in the same units. Also, we will replace \"Varies with device\" by Nan so we can convert cells with numerical data propertly"
   ]
  },
  {
   "cell_type": "code",
   "execution_count": 21,
   "metadata": {},
   "outputs": [
    {
     "output_type": "execute_result",
     "data": {
      "text/plain": [
       "array(['19.0', '14.0', '8.7', '25.0', '2.8', '5.6', '29.0', '33.0', '3.1',\n",
       "       '28.0', '12.0', '20.0', '21.0', '37.0', '2.7', '5.5', '17.0',\n",
       "       '39.0', '31.0', '4.2', '23.0', '6.0', '6.1', '4.6', '9.2', '5.2',\n",
       "       '11.0', '24.0', 'nan', '9.4'], dtype=object)"
      ]
     },
     "metadata": {},
     "execution_count": 21
    }
   ],
   "source": [
    "size = pd.DataFrame()\n",
    "size[\"size_code\"] = app_data['Size'].str[-1:]\n",
    "size[\"size_number\"] = app_data['Size'].str[0:-1]\n",
    "size[\"size_number\"] = size[\"size_number\"].replace('Varies with devic',np.nan)\n",
    "size[\"size_number\"] = pd.to_numeric(size[\"size_number\"], downcast = \"float\")\n",
    "conditions = [ (size[\"size_code\"] == 'k'), (size[\"size_code\"] == 'M'), (size[\"size_code\"] == \"e\")]\n",
    "choices = [size[\"size_number\"]/1024, size[\"size_number\"], np.nan]\n",
    "app_data[\"Size\"] = np.select(conditions, choices, default='np.nan')\n",
    "app_data[\"Size\"].unique()[0:30]\n"
   ]
  },
  {
   "cell_type": "markdown",
   "metadata": {},
   "source": [
    "Then, we replace Nan values with mean and we add an extra column that will have 1 if the the original value in \"Size\" was \"Varies with device\" and 0 if it was an assigned value"
   ]
  },
  {
   "cell_type": "code",
   "execution_count": 22,
   "metadata": {},
   "outputs": [
    {
     "output_type": "execute_result",
     "data": {
      "text/plain": [
       "                                                 App        Category  Rating  \\\n",
       "0     Photo Editor & Candy Camera & Grid & ScrapBook  ART_AND_DESIGN     4.1   \n",
       "1                                Coloring book moana  ART_AND_DESIGN     3.9   \n",
       "2  U Launcher Lite – FREE Live Cool Themes, Hide ...  ART_AND_DESIGN     4.7   \n",
       "3                              Sketch - Draw & Paint  ART_AND_DESIGN     4.5   \n",
       "4              Pixel Draw - Number Art Coloring Book  ART_AND_DESIGN     4.3   \n",
       "\n",
       "   Size  Type  Price  Content Rating                     Genres Android Ver  \\\n",
       "0  19.0     0    0.0               0               Art & Design       4.0.3   \n",
       "1  14.0     0    0.0               0  Art & Design;Pretend Play       4.0.3   \n",
       "2   8.7     0    0.0               0               Art & Design       4.0.3   \n",
       "3  25.0     0    0.0              13               Art & Design         4.2   \n",
       "4   2.8     0    0.0               0    Art & Design;Creativity         4.4   \n",
       "\n",
       "   Size: Varies with device  \n",
       "0                         0  \n",
       "1                         0  \n",
       "2                         0  \n",
       "3                         0  \n",
       "4                         0  "
      ],
      "text/html": "<div>\n<style scoped>\n    .dataframe tbody tr th:only-of-type {\n        vertical-align: middle;\n    }\n\n    .dataframe tbody tr th {\n        vertical-align: top;\n    }\n\n    .dataframe thead th {\n        text-align: right;\n    }\n</style>\n<table border=\"1\" class=\"dataframe\">\n  <thead>\n    <tr style=\"text-align: right;\">\n      <th></th>\n      <th>App</th>\n      <th>Category</th>\n      <th>Rating</th>\n      <th>Size</th>\n      <th>Type</th>\n      <th>Price</th>\n      <th>Content Rating</th>\n      <th>Genres</th>\n      <th>Android Ver</th>\n      <th>Size: Varies with device</th>\n    </tr>\n  </thead>\n  <tbody>\n    <tr>\n      <th>0</th>\n      <td>Photo Editor &amp; Candy Camera &amp; Grid &amp; ScrapBook</td>\n      <td>ART_AND_DESIGN</td>\n      <td>4.1</td>\n      <td>19.0</td>\n      <td>0</td>\n      <td>0.0</td>\n      <td>0</td>\n      <td>Art &amp; Design</td>\n      <td>4.0.3</td>\n      <td>0</td>\n    </tr>\n    <tr>\n      <th>1</th>\n      <td>Coloring book moana</td>\n      <td>ART_AND_DESIGN</td>\n      <td>3.9</td>\n      <td>14.0</td>\n      <td>0</td>\n      <td>0.0</td>\n      <td>0</td>\n      <td>Art &amp; Design;Pretend Play</td>\n      <td>4.0.3</td>\n      <td>0</td>\n    </tr>\n    <tr>\n      <th>2</th>\n      <td>U Launcher Lite – FREE Live Cool Themes, Hide ...</td>\n      <td>ART_AND_DESIGN</td>\n      <td>4.7</td>\n      <td>8.7</td>\n      <td>0</td>\n      <td>0.0</td>\n      <td>0</td>\n      <td>Art &amp; Design</td>\n      <td>4.0.3</td>\n      <td>0</td>\n    </tr>\n    <tr>\n      <th>3</th>\n      <td>Sketch - Draw &amp; Paint</td>\n      <td>ART_AND_DESIGN</td>\n      <td>4.5</td>\n      <td>25.0</td>\n      <td>0</td>\n      <td>0.0</td>\n      <td>13</td>\n      <td>Art &amp; Design</td>\n      <td>4.2</td>\n      <td>0</td>\n    </tr>\n    <tr>\n      <th>4</th>\n      <td>Pixel Draw - Number Art Coloring Book</td>\n      <td>ART_AND_DESIGN</td>\n      <td>4.3</td>\n      <td>2.8</td>\n      <td>0</td>\n      <td>0.0</td>\n      <td>0</td>\n      <td>Art &amp; Design;Creativity</td>\n      <td>4.4</td>\n      <td>0</td>\n    </tr>\n  </tbody>\n</table>\n</div>"
     },
     "metadata": {},
     "execution_count": 22
    }
   ],
   "source": [
    "app_data[\"Size: Varies with device\"] = (pd.get_dummies(app_data[\"Size\"]))[\"nan\"]\n",
    "imp_size = SimpleImputer(missing_values= np.nan ,strategy = \"mean\")\n",
    "imp_size.fit(pd.DataFrame(app_data[\"Size\"]))\n",
    "app_data[\"Size\"] = (imp_size.transform(pd.DataFrame(app_data[\"Size\"]))).astype(\"float\")\n",
    "app_data.head()"
   ]
  },
  {
   "cell_type": "code",
   "execution_count": 23,
   "metadata": {},
   "outputs": [
    {
     "output_type": "execute_result",
     "data": {
      "text/plain": [
       "App                          object\n",
       "Category                     object\n",
       "Rating                      float64\n",
       "Size                        float64\n",
       "Type                          int32\n",
       "Price                       float64\n",
       "Content Rating                int64\n",
       "Genres                       object\n",
       "Android Ver                  object\n",
       "Size: Varies with device      uint8\n",
       "dtype: object"
      ]
     },
     "metadata": {},
     "execution_count": 23
    }
   ],
   "source": [
    "app_data.dtypes"
   ]
  },
  {
   "cell_type": "markdown",
   "metadata": {},
   "source": [
    "Now, we will work with Category. As there are 33 categories, using onehot encoder would create a lot of extra columns. Hence, we will use labelencoder. As the data not ordered naurally, we will assign the highest value to the most common category and lowest to the least common"
   ]
  },
  {
   "cell_type": "code",
   "execution_count": 24,
   "metadata": {},
   "outputs": [
    {
     "output_type": "execute_result",
     "data": {
      "text/plain": [
       "array(['ART_AND_DESIGN', 'AUTO_AND_VEHICLES', 'BEAUTY',\n",
       "       'BOOKS_AND_REFERENCE', 'BUSINESS', 'COMICS', 'COMMUNICATION',\n",
       "       'DATING', 'EDUCATION', 'ENTERTAINMENT', 'EVENTS', 'FINANCE',\n",
       "       'FOOD_AND_DRINK', 'HEALTH_AND_FITNESS', 'HOUSE_AND_HOME',\n",
       "       'LIBRARIES_AND_DEMO', 'LIFESTYLE', 'GAME', 'FAMILY', 'MEDICAL',\n",
       "       'SOCIAL', 'SHOPPING', 'PHOTOGRAPHY', 'SPORTS', 'TRAVEL_AND_LOCAL',\n",
       "       'TOOLS', 'PERSONALIZATION', 'PRODUCTIVITY', 'PARENTING', 'WEATHER',\n",
       "       'VIDEO_PLAYERS', 'NEWS_AND_MAGAZINES', 'MAPS_AND_NAVIGATION'],\n",
       "      dtype=object)"
      ]
     },
     "metadata": {},
     "execution_count": 24
    }
   ],
   "source": [
    "app_data[\"Category\"].unique()"
   ]
  },
  {
   "cell_type": "code",
   "execution_count": 25,
   "metadata": {},
   "outputs": [],
   "source": [
    "n = app_data[\"Category\"].unique()\n",
    "c = []\n",
    "for i in n:\n",
    "    c.append([app_data[(app_data[\"Category\"] == i)][\"Category\"].count(), i])\n",
    "c.sort()\n",
    "\n",
    "r = range(33)\n",
    "\n",
    "for i,j in zip(c, r):\n",
    "    app_data[\"Category\"] = (app_data[\"Category\"].replace(i[1], j, regex=True))\n",
    "\n",
    "app_data[\"Category\"] = app_data[\"Category\"].astype(\"int\")"
   ]
  },
  {
   "cell_type": "markdown",
   "metadata": {},
   "source": [
    "Finally, we will look at \"Genres\" and decide what we should do with that column as it has many values similar to Category"
   ]
  },
  {
   "cell_type": "code",
   "execution_count": 26,
   "metadata": {},
   "outputs": [
    {
     "output_type": "execute_result",
     "data": {
      "text/plain": [
       "array(['Art & Design', 'Art & Design;Pretend Play',\n",
       "       'Art & Design;Creativity', 'Auto & Vehicles', 'Beauty',\n",
       "       'Books & Reference', 'Business', 'Comics', 'Comics;Creativity',\n",
       "       'Communication', 'Dating', 'Education;Education', 'Education',\n",
       "       'Education;Creativity', 'Education;Music & Video',\n",
       "       'Education;Action & Adventure', 'Education;Pretend Play',\n",
       "       'Education;Brain Games', 'Entertainment',\n",
       "       'Entertainment;Music & Video', 'Entertainment;Brain Games',\n",
       "       'Entertainment;Creativity', 'Events', 'Finance', 'Food & Drink',\n",
       "       'Health & Fitness', 'House & Home', 'Libraries & Demo',\n",
       "       'Lifestyle', 'Lifestyle;Pretend Play'], dtype=object)"
      ]
     },
     "metadata": {},
     "execution_count": 26
    }
   ],
   "source": [
    "app_data[\"Genres\"].unique()[0:30]"
   ]
  },
  {
   "cell_type": "code",
   "execution_count": 27,
   "metadata": {},
   "outputs": [],
   "source": [
    "app_data[[\"Genre1\", \"Genre2\"]] = app_data[\"Genres\"].str.split(\";\", expand = True)\n",
    "app_data = app_data.drop([\"Genres\"], axis=1)"
   ]
  },
  {
   "cell_type": "code",
   "execution_count": 28,
   "metadata": {},
   "outputs": [
    {
     "output_type": "execute_result",
     "data": {
      "text/plain": [
       "array([None, 'Pretend Play', 'Creativity', 'Education', 'Music & Video',\n",
       "       'Action & Adventure', 'Brain Games'], dtype=object)"
      ]
     },
     "metadata": {},
     "execution_count": 28
    }
   ],
   "source": [
    "app_data[\"Genre2\"].unique()"
   ]
  },
  {
   "cell_type": "markdown",
   "metadata": {},
   "source": [
    "We see that many values in the Genres column are the same as in Category. Since we might get 2 highly correlated columns, we should only keep one of them. We will be keeping Category as the data there is better organised. "
   ]
  },
  {
   "cell_type": "code",
   "execution_count": 29,
   "metadata": {},
   "outputs": [],
   "source": [
    "app_data = app_data.drop([\"Genre1\", \"Genre2\"], axis=1)"
   ]
  },
  {
   "cell_type": "markdown",
   "metadata": {},
   "source": [
    "Now, that all the data is numerical, we can separate it into x and y sets"
   ]
  },
  {
   "source": [
    "We also remove the Android Ver Column"
   ],
   "cell_type": "markdown",
   "metadata": {}
  },
  {
   "cell_type": "code",
   "execution_count": 30,
   "metadata": {},
   "outputs": [],
   "source": [
    "app_data = app_data.drop(['Android Ver'], axis=1)"
   ]
  },
  {
   "cell_type": "code",
   "execution_count": 32,
   "metadata": {},
   "outputs": [
    {
     "output_type": "execute_result",
     "data": {
      "text/plain": [
       "                                                  App  Category  Size  Type  \\\n",
       "0      Photo Editor & Candy Camera & Grid & ScrapBook         4  19.0     0   \n",
       "1                                 Coloring book moana         4  14.0     0   \n",
       "2   U Launcher Lite – FREE Live Cool Themes, Hide ...         4   8.7     0   \n",
       "3                               Sketch - Draw & Paint         4  25.0     0   \n",
       "4               Pixel Draw - Number Art Coloring Book         4   2.8     0   \n",
       "5                          Paper flowers instructions         4   5.6     0   \n",
       "6             Smoke Effect Photo Maker - Smoke Editor         4  19.0     0   \n",
       "7                                    Infinite Painter         4  29.0     0   \n",
       "8                                Garden Coloring Book         4  33.0     0   \n",
       "9                       Kids Paint Free - Drawing Fun         4   3.1     0   \n",
       "10                            Text on Photo - Fonteee         4  28.0     0   \n",
       "11            Name Art Photo Editor - Focus n Filters         4  12.0     0   \n",
       "12                     Tattoo Name On My Photo Editor         4  20.0     0   \n",
       "13                              Mandala Coloring Book         4  21.0     0   \n",
       "14    3D Color Pixel by Number - Sandbox Art Coloring         4  37.0     0   \n",
       "15                    Learn To Draw Kawaii Characters         4   2.7     0   \n",
       "16       Photo Designer - Write your name with shapes         4   5.5     0   \n",
       "17                           350 Diy Room Decor Ideas         4  17.0     0   \n",
       "18                      FlipaClip - Cartoon animation         4  39.0     0   \n",
       "19                                       ibis Paint X         4  31.0     0   \n",
       "\n",
       "    Price  Content Rating  Size: Varies with device  \n",
       "0     0.0               0                         0  \n",
       "1     0.0               0                         0  \n",
       "2     0.0               0                         0  \n",
       "3     0.0              13                         0  \n",
       "4     0.0               0                         0  \n",
       "5     0.0               0                         0  \n",
       "6     0.0               0                         0  \n",
       "7     0.0               0                         0  \n",
       "8     0.0               0                         0  \n",
       "9     0.0               0                         0  \n",
       "10    0.0               0                         0  \n",
       "11    0.0               0                         0  \n",
       "12    0.0              13                         0  \n",
       "13    0.0               0                         0  \n",
       "14    0.0               0                         0  \n",
       "15    0.0               0                         0  \n",
       "16    0.0               0                         0  \n",
       "17    0.0               0                         0  \n",
       "18    0.0               0                         0  \n",
       "19    0.0               0                         0  "
      ],
      "text/html": "<div>\n<style scoped>\n    .dataframe tbody tr th:only-of-type {\n        vertical-align: middle;\n    }\n\n    .dataframe tbody tr th {\n        vertical-align: top;\n    }\n\n    .dataframe thead th {\n        text-align: right;\n    }\n</style>\n<table border=\"1\" class=\"dataframe\">\n  <thead>\n    <tr style=\"text-align: right;\">\n      <th></th>\n      <th>App</th>\n      <th>Category</th>\n      <th>Size</th>\n      <th>Type</th>\n      <th>Price</th>\n      <th>Content Rating</th>\n      <th>Size: Varies with device</th>\n    </tr>\n  </thead>\n  <tbody>\n    <tr>\n      <th>0</th>\n      <td>Photo Editor &amp; Candy Camera &amp; Grid &amp; ScrapBook</td>\n      <td>4</td>\n      <td>19.0</td>\n      <td>0</td>\n      <td>0.0</td>\n      <td>0</td>\n      <td>0</td>\n    </tr>\n    <tr>\n      <th>1</th>\n      <td>Coloring book moana</td>\n      <td>4</td>\n      <td>14.0</td>\n      <td>0</td>\n      <td>0.0</td>\n      <td>0</td>\n      <td>0</td>\n    </tr>\n    <tr>\n      <th>2</th>\n      <td>U Launcher Lite – FREE Live Cool Themes, Hide ...</td>\n      <td>4</td>\n      <td>8.7</td>\n      <td>0</td>\n      <td>0.0</td>\n      <td>0</td>\n      <td>0</td>\n    </tr>\n    <tr>\n      <th>3</th>\n      <td>Sketch - Draw &amp; Paint</td>\n      <td>4</td>\n      <td>25.0</td>\n      <td>0</td>\n      <td>0.0</td>\n      <td>13</td>\n      <td>0</td>\n    </tr>\n    <tr>\n      <th>4</th>\n      <td>Pixel Draw - Number Art Coloring Book</td>\n      <td>4</td>\n      <td>2.8</td>\n      <td>0</td>\n      <td>0.0</td>\n      <td>0</td>\n      <td>0</td>\n    </tr>\n    <tr>\n      <th>5</th>\n      <td>Paper flowers instructions</td>\n      <td>4</td>\n      <td>5.6</td>\n      <td>0</td>\n      <td>0.0</td>\n      <td>0</td>\n      <td>0</td>\n    </tr>\n    <tr>\n      <th>6</th>\n      <td>Smoke Effect Photo Maker - Smoke Editor</td>\n      <td>4</td>\n      <td>19.0</td>\n      <td>0</td>\n      <td>0.0</td>\n      <td>0</td>\n      <td>0</td>\n    </tr>\n    <tr>\n      <th>7</th>\n      <td>Infinite Painter</td>\n      <td>4</td>\n      <td>29.0</td>\n      <td>0</td>\n      <td>0.0</td>\n      <td>0</td>\n      <td>0</td>\n    </tr>\n    <tr>\n      <th>8</th>\n      <td>Garden Coloring Book</td>\n      <td>4</td>\n      <td>33.0</td>\n      <td>0</td>\n      <td>0.0</td>\n      <td>0</td>\n      <td>0</td>\n    </tr>\n    <tr>\n      <th>9</th>\n      <td>Kids Paint Free - Drawing Fun</td>\n      <td>4</td>\n      <td>3.1</td>\n      <td>0</td>\n      <td>0.0</td>\n      <td>0</td>\n      <td>0</td>\n    </tr>\n    <tr>\n      <th>10</th>\n      <td>Text on Photo - Fonteee</td>\n      <td>4</td>\n      <td>28.0</td>\n      <td>0</td>\n      <td>0.0</td>\n      <td>0</td>\n      <td>0</td>\n    </tr>\n    <tr>\n      <th>11</th>\n      <td>Name Art Photo Editor - Focus n Filters</td>\n      <td>4</td>\n      <td>12.0</td>\n      <td>0</td>\n      <td>0.0</td>\n      <td>0</td>\n      <td>0</td>\n    </tr>\n    <tr>\n      <th>12</th>\n      <td>Tattoo Name On My Photo Editor</td>\n      <td>4</td>\n      <td>20.0</td>\n      <td>0</td>\n      <td>0.0</td>\n      <td>13</td>\n      <td>0</td>\n    </tr>\n    <tr>\n      <th>13</th>\n      <td>Mandala Coloring Book</td>\n      <td>4</td>\n      <td>21.0</td>\n      <td>0</td>\n      <td>0.0</td>\n      <td>0</td>\n      <td>0</td>\n    </tr>\n    <tr>\n      <th>14</th>\n      <td>3D Color Pixel by Number - Sandbox Art Coloring</td>\n      <td>4</td>\n      <td>37.0</td>\n      <td>0</td>\n      <td>0.0</td>\n      <td>0</td>\n      <td>0</td>\n    </tr>\n    <tr>\n      <th>15</th>\n      <td>Learn To Draw Kawaii Characters</td>\n      <td>4</td>\n      <td>2.7</td>\n      <td>0</td>\n      <td>0.0</td>\n      <td>0</td>\n      <td>0</td>\n    </tr>\n    <tr>\n      <th>16</th>\n      <td>Photo Designer - Write your name with shapes</td>\n      <td>4</td>\n      <td>5.5</td>\n      <td>0</td>\n      <td>0.0</td>\n      <td>0</td>\n      <td>0</td>\n    </tr>\n    <tr>\n      <th>17</th>\n      <td>350 Diy Room Decor Ideas</td>\n      <td>4</td>\n      <td>17.0</td>\n      <td>0</td>\n      <td>0.0</td>\n      <td>0</td>\n      <td>0</td>\n    </tr>\n    <tr>\n      <th>18</th>\n      <td>FlipaClip - Cartoon animation</td>\n      <td>4</td>\n      <td>39.0</td>\n      <td>0</td>\n      <td>0.0</td>\n      <td>0</td>\n      <td>0</td>\n    </tr>\n    <tr>\n      <th>19</th>\n      <td>ibis Paint X</td>\n      <td>4</td>\n      <td>31.0</td>\n      <td>0</td>\n      <td>0.0</td>\n      <td>0</td>\n      <td>0</td>\n    </tr>\n  </tbody>\n</table>\n</div>"
     },
     "metadata": {},
     "execution_count": 32
    }
   ],
   "source": [
    "# Create df for Rating\n",
    "# the y df\n",
    "app_data_y = pd.to_numeric(app_data[\"Rating\"], downcast = \"float\")\n",
    "app_data_y.head()\n",
    "\n",
    "# Create df for the Rest of the features\n",
    "# the x df\n",
    "app_data_x = app_data.drop([\"Rating\"], axis = 1)\n",
    "app_data_x.head(20)"
   ]
  },
  {
   "cell_type": "markdown",
   "metadata": {},
   "source": [
    "## Data visualisation"
   ]
  },
  {
   "cell_type": "code",
   "execution_count": null,
   "metadata": {},
   "outputs": [],
   "source": []
  }
 ],
 "metadata": {
  "kernelspec": {
   "name": "python3",
   "display_name": "Python 3.8.2 32-bit",
   "metadata": {
    "interpreter": {
     "hash": "7a542ca580817fc4dd55327026e074e2fa0cd470fc5dee9350c2d8b13822db8d"
    }
   }
  },
  "language_info": {
   "codemirror_mode": {
    "name": "ipython",
    "version": 3
   },
   "file_extension": ".py",
   "mimetype": "text/x-python",
   "name": "python",
   "nbconvert_exporter": "python",
   "pygments_lexer": "ipython3",
   "version": "3.8.2-final"
  }
 },
 "nbformat": 4,
 "nbformat_minor": 2
}