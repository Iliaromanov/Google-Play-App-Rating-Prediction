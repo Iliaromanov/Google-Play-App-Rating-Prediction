{
 "metadata": {
  "language_info": {
   "codemirror_mode": {
    "name": "ipython",
    "version": 3
   },
   "file_extension": ".py",
   "mimetype": "text/x-python",
   "name": "python",
   "nbconvert_exporter": "python",
   "pygments_lexer": "ipython3",
   "version": "3.8.2-final"
  },
  "orig_nbformat": 2,
  "kernelspec": {
   "name": "Python 3.8.2 32-bit",
   "display_name": "Python 3.8.2 32-bit",
   "metadata": {
    "interpreter": {
     "hash": "7a542ca580817fc4dd55327026e074e2fa0cd470fc5dee9350c2d8b13822db8d"
    }
   }
  }
 },
 "nbformat": 4,
 "nbformat_minor": 2,
 "cells": [
  {
   "cell_type": "code",
   "execution_count": 1,
   "metadata": {},
   "outputs": [],
   "source": [
    "import numpy as np\n",
    "import pandas as pd\n",
    "from sklearn.preprocessing import LabelEncoder\n",
    "\n",
    "app_data = pd.read_csv('googleplaystore.csv')"
   ]
  },
  {
   "cell_type": "code",
   "execution_count": 26,
   "metadata": {},
   "outputs": [],
   "source": [
    "def missing_values(test):\n",
    "    total = test.isnull().sum().sort_values(ascending=False)\n",
    "    percent_1 = test.isnull().sum()/test.isnull().count()*100\n",
    "    percent_2 = (round(percent_1, 1)).sort_values(ascending=False)\n",
    "    missing_data = pd.concat([total, percent_2], axis=1, keys=['Total', '%'])\n",
    "    \n",
    "    return missing_data.head((missing_data['Total'] > 0).sum())\n"
   ]
  },
  {
   "cell_type": "code",
   "execution_count": 27,
   "metadata": {},
   "outputs": [
    {
     "output_type": "execute_result",
     "data": {
      "text/plain": [
       "                Total     %\n",
       "Rating           1474  13.6\n",
       "Current Ver         8   0.1\n",
       "Android Ver         3   0.0\n",
       "Content Rating      1   0.0\n",
       "Type                1   0.0"
      ],
      "text/html": "<div>\n<style scoped>\n    .dataframe tbody tr th:only-of-type {\n        vertical-align: middle;\n    }\n\n    .dataframe tbody tr th {\n        vertical-align: top;\n    }\n\n    .dataframe thead th {\n        text-align: right;\n    }\n</style>\n<table border=\"1\" class=\"dataframe\">\n  <thead>\n    <tr style=\"text-align: right;\">\n      <th></th>\n      <th>Total</th>\n      <th>%</th>\n    </tr>\n  </thead>\n  <tbody>\n    <tr>\n      <th>Rating</th>\n      <td>1474</td>\n      <td>13.6</td>\n    </tr>\n    <tr>\n      <th>Current Ver</th>\n      <td>8</td>\n      <td>0.1</td>\n    </tr>\n    <tr>\n      <th>Android Ver</th>\n      <td>3</td>\n      <td>0.0</td>\n    </tr>\n    <tr>\n      <th>Content Rating</th>\n      <td>1</td>\n      <td>0.0</td>\n    </tr>\n    <tr>\n      <th>Type</th>\n      <td>1</td>\n      <td>0.0</td>\n    </tr>\n  </tbody>\n</table>\n</div>"
     },
     "metadata": {},
     "execution_count": 27
    }
   ],
   "source": [
    "# Display the amount of missing values per column\n",
    "# and what percentage of the column contains missing values\n",
    "missing_values(app_data)"
   ]
  },
  {
   "cell_type": "code",
   "execution_count": 28,
   "metadata": {},
   "outputs": [],
   "source": [
    "# Removing app titled Life Made Wifi Touchscreen Photo Frame\n",
    "# Reason: many missing and unusable values\n",
    "app_data = app_data.drop(10472)\n",
    "\n",
    "# Removing rows with missing rating\n",
    "app_data = app_data[app_data.Rating.notnull()]\n"
   ]
  },
  {
   "cell_type": "code",
   "execution_count": 29,
   "metadata": {},
   "outputs": [],
   "source": [
    "# Create df for Rating\n",
    "# the y df\n",
    "app_data_x = app_data[\"Rating\"]\n",
    "\n",
    "# Create df for the Rest of the features\n",
    "# the x df\n",
    "columns_drop = [\"Rating\", \"App\"]\n",
    "rest_data = app_data.drop(columns_drop, axis = 1)"
   ]
  },
  {
   "cell_type": "code",
   "execution_count": 30,
   "metadata": {},
   "outputs": [],
   "source": [
    "# Count unique values in App and see that there are duplicates\n",
    "unique_apps = app_data[\"App\"].nunique()\n",
    "all_apps = app_data[\"App\"].size"
   ]
  },
  {
   "cell_type": "code",
   "execution_count": 31,
   "metadata": {},
   "outputs": [],
   "source": [
    "# Convert Installs to numeric\n",
    "app_data_y[\"Installs\"] =  pd.to_numeric((app_data_y[\"Installs\"].str.replace(\"+\", \"\")).str.replace(\",\", \"\"))\n"
   ]
  },
  {
   "cell_type": "code",
   "execution_count": 32,
   "metadata": {},
   "outputs": [],
   "source": [
    "#See all unique values in the Android version column\n",
    "app_data_y[\"Android Ver\"].unique()\n",
    "# Note that most are num and up. Hence, we can split the column into 3 by space\n",
    "\n",
    "#Take the first part of the android version\n",
    "app_data_y[\"Android Ver\"] = app_data[\"Android Ver\"].str.split(expand = True)"
   ]
  },
  {
   "cell_type": "code",
   "execution_count": 34,
   "metadata": {},
   "outputs": [],
   "source": [
    "# There are 3 values in type column: free, paid and nan. There is only 1 nan so I looked at it and\n",
    "# since the price is set to 0, I will put free for that cell\n",
    "app_data_y[\"Type\"][9148] = \"Free\"\n",
    "\n",
    "# Change price column to free = 0 and paid = 1\n",
    "paid_types = app_data_y[\"Type\"].unique()"
   ]
  },
  {
   "cell_type": "code",
   "execution_count": 36,
   "metadata": {},
   "outputs": [],
   "source": [
    "# creating instance of labelencoder\n",
    "labelencoder = LabelEncoder()\n",
    "app_data_y['Type'] = labelencoder.fit_transform(app_data_y['Type'])"
   ]
  },
  {
   "cell_type": "code",
   "execution_count": 37,
   "metadata": {},
   "outputs": [],
   "source": [
    "# Select numeric columns that can be converted as is\n",
    "num_cols = [\"Reviews\"]"
   ]
  }
 ]
}